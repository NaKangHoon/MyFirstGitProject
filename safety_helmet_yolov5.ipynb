{
  "nbformat": 4,
  "nbformat_minor": 0,
  "metadata": {
    "colab": {
      "provenance": [],
      "gpuType": "T4",
      "mount_file_id": "1eW9qPJYfgl5zbI8uZcR-S0AnqEw5An8-",
      "authorship_tag": "ABX9TyNI9YGcgeJtExGmrJLQpur0",
      "include_colab_link": true
    },
    "kernelspec": {
      "name": "python3",
      "display_name": "Python 3"
    },
    "language_info": {
      "name": "python"
    },
    "accelerator": "GPU"
  },
  "cells": [
    {
      "cell_type": "markdown",
      "metadata": {
        "id": "view-in-github",
        "colab_type": "text"
      },
      "source": [
        "<a href=\"https://colab.research.google.com/github/NaKangHoon/MyFirstGitProject/blob/newbie/safety_helmet_yolov5.ipynb\" target=\"_parent\"><img src=\"https://colab.research.google.com/assets/colab-badge.svg\" alt=\"Open In Colab\"/></a>"
      ]
    },
    {
      "cell_type": "code",
      "source": [
        "%cd /content/drive/MyDrive/YOLO V5/dataset\n",
        "\n",
        "!unzip -qq \"/content/drive/MyDrive/YOLO V5/Hard Hat Detector.v1i.yolov5pytorch (1).zip\""
      ],
      "metadata": {
        "colab": {
          "base_uri": "https://localhost:8080/"
        },
        "id": "CjwF05DMuZrC",
        "outputId": "1fab1df8-25aa-4f78-db02-dcc17376b524"
      },
      "execution_count": 11,
      "outputs": [
        {
          "output_type": "stream",
          "name": "stdout",
          "text": [
            "/content/drive/MyDrive/YOLO V5/dataset\n"
          ]
        }
      ]
    },
    {
      "cell_type": "code",
      "source": [
        "import yaml"
      ],
      "metadata": {
        "id": "hv-l7tu7xoo0"
      },
      "execution_count": 27,
      "outputs": []
    },
    {
      "cell_type": "code",
      "source": [
        "from google.colab import drive\n",
        "import os\n",
        "\n",
        "drive.mount('/content/drive')\n"
      ],
      "metadata": {
        "colab": {
          "base_uri": "https://localhost:8080/"
        },
        "id": "_2F_9wasmEsl",
        "outputId": "dd3930bc-44e1-48e5-bafa-e3357fce53e2"
      },
      "execution_count": 22,
      "outputs": [
        {
          "output_type": "stream",
          "name": "stdout",
          "text": [
            "Drive already mounted at /content/drive; to attempt to forcibly remount, call drive.mount(\"/content/drive\", force_remount=True).\n"
          ]
        }
      ]
    },
    {
      "cell_type": "code",
      "source": [
        "os.chdir('/content/drive/MyDrive/YOLO V5')"
      ],
      "metadata": {
        "id": "kzDFCxl8pbjZ"
      },
      "execution_count": 23,
      "outputs": []
    },
    {
      "cell_type": "code",
      "source": [
        "!git clone https://github.com/ultralytics/yolov5\n",
        "%cd yolov5\n",
        "%pip install -qr requirements.txt\n",
        "%pip install -q roboflow\n",
        "\n"
      ],
      "metadata": {
        "colab": {
          "base_uri": "https://localhost:8080/"
        },
        "id": "pAjqrMsRnGjy",
        "outputId": "09867006-e594-4057-fb6b-8fab8fa04c55"
      },
      "execution_count": 24,
      "outputs": [
        {
          "output_type": "stream",
          "name": "stdout",
          "text": [
            "fatal: destination path 'yolov5' already exists and is not an empty directory.\n",
            "/content/drive/MyDrive/YOLO V5/yolov5\n"
          ]
        }
      ]
    },
    {
      "cell_type": "code",
      "source": [
        "data_dir ='/content/drive/MyDrive/YOLO V5/dataset/helmet'\n",
        "data_yaml = '/content/drive/MyDrive/YOLO V5/dataset/helmet/data.yaml'"
      ],
      "metadata": {
        "id": "lSxHLwvIouVa"
      },
      "execution_count": 25,
      "outputs": []
    },
    {
      "cell_type": "code",
      "source": [
        "with open(data_yaml) as f:\n",
        "    film = yaml.load(f, Loader = yaml.FullLoader)\n",
        "    display(film)"
      ],
      "metadata": {
        "colab": {
          "base_uri": "https://localhost:8080/",
          "height": 200
        },
        "id": "CyheCO8fs3gM",
        "outputId": "87e47190-621d-4422-d53e-d6ce309bed50"
      },
      "execution_count": 28,
      "outputs": [
        {
          "output_type": "display_data",
          "data": {
            "text/plain": [
              "{'train': '../train/images',\n",
              " 'val': '../valid/images',\n",
              " 'test': '../test/images',\n",
              " 'nc': 2,\n",
              " 'names': ['0', 'object'],\n",
              " 'roboflow': {'workspace': 'wedothings',\n",
              "  'project': 'hard-hat-detector-znysj',\n",
              "  'version': 1,\n",
              "  'license': 'CC BY 4.0',\n",
              "  'url': 'https://universe.roboflow.com/wedothings/hard-hat-detector-znysj/dataset/1'}}"
            ]
          },
          "metadata": {}
        }
      ]
    },
    {
      "cell_type": "code",
      "source": [
        "film['train'] = data_dir + '/' + 'train/images'\n",
        "film['val'] = data_dir + '/' + 'valid/images'\n",
        "\n",
        "with open(data_yaml, 'w') as f:\n",
        "    yaml.dump(film, f)\n",
        "print('변경된 yaml 파일:')\n",
        "\n",
        "with open(data_yaml) as f:\n",
        "    film = yaml.load(f, Loader = yaml.FullLoader)\n",
        "    display(film)"
      ],
      "metadata": {
        "colab": {
          "base_uri": "https://localhost:8080/",
          "height": 218
        },
        "id": "x8CumvcWw3Js",
        "outputId": "f320cd86-f430-482d-dd53-a0ce11345dc6"
      },
      "execution_count": 35,
      "outputs": [
        {
          "output_type": "stream",
          "name": "stdout",
          "text": [
            "변경된 yaml 파일:\n"
          ]
        },
        {
          "output_type": "display_data",
          "data": {
            "text/plain": [
              "{'names': ['0', 'object'],\n",
              " 'nc': 2,\n",
              " 'roboflow': {'license': 'CC BY 4.0',\n",
              "  'project': 'hard-hat-detector-znysj',\n",
              "  'url': 'https://universe.roboflow.com/wedothings/hard-hat-detector-znysj/dataset/1',\n",
              "  'version': 1,\n",
              "  'workspace': 'wedothings'},\n",
              " 'test': '../test/images',\n",
              " 'train': '/content/drive/MyDrive/YOLO V5/dataset/helmet/train/images',\n",
              " 'val': '/content/drive/MyDrive/YOLO V5/dataset/helmet/valid/images'}"
            ]
          },
          "metadata": {}
        }
      ]
    },
    {
      "cell_type": "code",
      "source": [
        "!python train.py --img 416 --batch 16 --epochs 50 --data {data_yaml} --weights yolov5s.pt --cache\n"
      ],
      "metadata": {
        "colab": {
          "base_uri": "https://localhost:8080/"
        },
        "id": "XvVTHBtfyUUz",
        "outputId": "13aae4a5-8c69-4795-fb30-b840de68a4ec"
      },
      "execution_count": 34,
      "outputs": [
        {
          "output_type": "stream",
          "name": "stdout",
          "text": [
            "2024-08-09 06:23:11.748957: E external/local_xla/xla/stream_executor/cuda/cuda_dnn.cc:9261] Unable to register cuDNN factory: Attempting to register factory for plugin cuDNN when one has already been registered\n",
            "2024-08-09 06:23:11.749016: E external/local_xla/xla/stream_executor/cuda/cuda_fft.cc:607] Unable to register cuFFT factory: Attempting to register factory for plugin cuFFT when one has already been registered\n",
            "2024-08-09 06:23:11.750538: E external/local_xla/xla/stream_executor/cuda/cuda_blas.cc:1515] Unable to register cuBLAS factory: Attempting to register factory for plugin cuBLAS when one has already been registered\n",
            "usage: train.py [-h] [--weights WEIGHTS] [--cfg CFG] [--data DATA] [--hyp HYP] [--epochs EPOCHS]\n",
            "                [--batch-size BATCH_SIZE] [--imgsz IMGSZ] [--rect] [--resume [RESUME]] [--nosave]\n",
            "                [--noval] [--noautoanchor] [--noplots] [--evolve [EVOLVE]]\n",
            "                [--evolve_population EVOLVE_POPULATION] [--resume_evolve RESUME_EVOLVE]\n",
            "                [--bucket BUCKET] [--cache [CACHE]] [--image-weights] [--device DEVICE]\n",
            "                [--multi-scale] [--single-cls] [--optimizer {SGD,Adam,AdamW}] [--sync-bn]\n",
            "                [--workers WORKERS] [--project PROJECT] [--name NAME] [--exist-ok] [--quad]\n",
            "                [--cos-lr] [--label-smoothing LABEL_SMOOTHING] [--patience PATIENCE]\n",
            "                [--freeze FREEZE [FREEZE ...]] [--save-period SAVE_PERIOD] [--seed SEED]\n",
            "                [--local_rank LOCAL_RANK] [--entity ENTITY] [--upload_dataset [UPLOAD_DATASET]]\n",
            "                [--bbox_interval BBOX_INTERVAL] [--artifact_alias ARTIFACT_ALIAS]\n",
            "                [--ndjson-console] [--ndjson-file]\n",
            "train.py: error: unrecognized arguments: V5/dataset/helmet/data.yaml\n"
          ]
        }
      ]
    }
  ]
}