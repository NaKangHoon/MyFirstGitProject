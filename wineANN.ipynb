{
  "nbformat": 4,
  "nbformat_minor": 0,
  "metadata": {
    "colab": {
      "provenance": [],
      "authorship_tag": "ABX9TyPlTr4rfzcIyKxMoGgk8Eps",
      "include_colab_link": true
    },
    "kernelspec": {
      "name": "python3",
      "display_name": "Python 3"
    },
    "language_info": {
      "name": "python"
    }
  },
  "cells": [
    {
      "cell_type": "markdown",
      "metadata": {
        "id": "view-in-github",
        "colab_type": "text"
      },
      "source": [
        "<a href=\"https://colab.research.google.com/github/NaKangHoon/MyFirstGitProject/blob/newbie/wineANN.ipynb\" target=\"_parent\"><img src=\"https://colab.research.google.com/assets/colab-badge.svg\" alt=\"Open In Colab\"/></a>"
      ]
    },
    {
      "cell_type": "code",
      "execution_count": 77,
      "metadata": {
        "colab": {
          "base_uri": "https://localhost:8080/"
        },
        "id": "dnki80lsSg2f",
        "outputId": "9d6b6f77-f59c-4ce6-f322-0a8a6c30c933"
      },
      "outputs": [
        {
          "output_type": "stream",
          "name": "stdout",
          "text": [
            "2.17.0\n"
          ]
        }
      ],
      "source": [
        "# !pip install tqdm\n",
        "import tensorflow as tf\n",
        "print(tf.__version__)\n",
        "import pandas as pd\n",
        "import numpy as np\n",
        "from tqdm import tqdm\n",
        "from sklearn.model_selection import train_test_split"
      ]
    },
    {
      "cell_type": "code",
      "source": [
        "class WineANN(tf.keras.Model):\n",
        "    def __init__(self):\n",
        "        super(WineANN, self).__init__()\n",
        "        # 층을 몇개, 노드(결과값)는 몇개 만들지\n",
        "        self.hidden1 = tf.keras.layers.Dense(units=8,\n",
        "                                             activation='relu',\n",
        "                                             kernel_initializer = self.weight_initialization(),\n",
        "                                             bias_initializer = self.weight_initialization())\n",
        "        self.hidden2 = tf.keras.layers.Dense(units=8,\n",
        "                                             activation='relu',\n",
        "                                             kernel_initializer = self.weight_initialization(),\n",
        "                                             bias_initializer = self.weight_initialization())\n",
        "        self.OUTPUT = tf.keras.layers.Dense(units=2,\n",
        "                                            activation=None,\n",
        "                                            kernel_initializer = self.weight_initialization(),\n",
        "                                            bias_initializer = self.weight_initialization())\n",
        "\n",
        "\n",
        "\n",
        "\n",
        "\n",
        "\n",
        "    def weight_initialization(self):\n",
        "        return tf.keras.initializers.RandomNormal(mean = 0 , stddev = 1)\n",
        "\n",
        "\n",
        "    def call(self, x, training = False):\n",
        "        # 층에 순서대로 계산\n",
        "        y1 = self.hidden1(x)\n",
        "        y2 = self.hidden2(y1)\n",
        "        logits = self.OUTPUT(y2)\n",
        "        sy = tf.nn.softmax(logits)\n",
        "        return logits, sy\n",
        "\n",
        ""
      ],
      "metadata": {
        "id": "9pMLGq69VPdw"
      },
      "execution_count": 78,
      "outputs": []
    },
    {
      "cell_type": "code",
      "source": [
        "@tf.function\n",
        "def cross_entropy_loss(logits,y):\n",
        "  return tf.reduce_mean(tf.nn.softmax_cross_entropy_with_logits(logits = logits, labels = y))\n",
        "\n",
        "learningRate = 0.001\n",
        "optimizer = tf.optimizers.Adam(learningRate) # 미분법(경사하강법). Adagrad,Momentum\n",
        "@tf.function\n",
        "def backward(model, x, y):\n",
        "    with tf.GradientTape() as grad:\n",
        "        logits, sy = model(x, training = True) # 콜 함수 부르는곳\n",
        "        loss = cross_entropy_loss(logits, y)\n",
        "    gradients = grad.gradient(loss, model.trainable_variables)\n",
        "    optimizer.apply_gradients(zip(gradients, model.trainable_variables))\n",
        "    return loss\n",
        "\n",
        "@tf.function\n",
        "def accuracy(predY, y):\n",
        "    correct_pred = tf.equal(tf.argmax(predY, axis=1), tf.argmax(y, axis=1))\n",
        "    acc = tf.reduce_mean(tf.cast(correct_pred, tf.float32))\n",
        "    return acc"
      ],
      "metadata": {
        "id": "KLUZQKyIWsQW"
      },
      "execution_count": 79,
      "outputs": []
    },
    {
      "cell_type": "code",
      "source": [
        "def train_learning(epochs, frequency, trainDataliter,model,XTest,yTest):\n",
        "    y_loss = []\n",
        "    for epoch in tqdm(range(epochs)):\n",
        "        bx, by = next(trainDataliter) #batch를 300개씩 계산\n",
        "        loss = backward(model, bx, by) # 오차 300개의 평균을 한번에 계산\n",
        "        y_loss.append(loss)\n",
        "        if epoch % frequency == 0 :\n",
        "            predY,sy = model(bx, training = False) # 콜함수 요청\n",
        "            acc = accuracy(predY,by)\n",
        "            print(f'epoch : {epoch+1} ==> loss : {loss:.4f}, accuracy : {acc:.4f}')\n",
        "    predY, sy = model(XTest, training = False)\n",
        "    acc = accuracy(predY, yTest)\n",
        "    print(f'test accuracy : {acc:.4f}')\n",
        "    return y_loss\n",
        "\n",
        "\n"
      ],
      "metadata": {
        "id": "ZVSICy-8evel"
      },
      "execution_count": 80,
      "outputs": []
    },
    {
      "cell_type": "code",
      "source": [
        "red_path = \"/content/drive/MyDrive/세종교육/winequality-red.csv\"\n",
        "white_path = \"/content/drive/MyDrive/세종교육/winequality-white.csv\"\n",
        "red_df = pd.read_csv(red_path, sep=';')\n",
        "red_df['label'] = 0\n",
        "white_df = pd.read_csv(white_path, sep=';')\n",
        "white_df['label'] = 1\n",
        "wine_df = pd.concat([red_df, white_df])\n",
        "wine_df.reset_index(drop=True, inplace=True)\n",
        "matrix = wine_df.values\n",
        "X = matrix[:, :-1]\n",
        "X = (X-X.min(axis=0)) / (X.max(axis=0)-X.min(axis=0))\n",
        "print(X)\n",
        "y = matrix[:, -1]\n",
        "\n",
        "\n",
        "XTrain, XTest, yTrain, yTest = train_test_split(X, y, test_size=0.3, random_state=42)\n",
        "XTrain, XTest = XTrain.astype('float32'), XTest.astype('float32')\n",
        "\n",
        "# One-hot encode y\n",
        "yTrain = tf.one_hot(yTrain.flatten(), 2)\n",
        "yTest = tf.one_hot(yTest.flatten(), 2)\n",
        "\n",
        "train_data = tf.data.Dataset.from_tensor_slices((XTrain, yTrain))\n",
        "train_data = train_data.shuffle(buffer_size=XTrain.shape[0]).batch(300).repeat()\n",
        "trainDataliter = iter(train_data)\n",
        "\n",
        "epochs = 5000\n",
        "frequency = 200\n",
        "model = WineANN()\n",
        "y_loss = train_learning(epochs, frequency, trainDataliter, model, XTest, yTest)\n"
      ],
      "metadata": {
        "colab": {
          "base_uri": "https://localhost:8080/"
        },
        "id": "6fzf2ExXjkQ1",
        "outputId": "ec073f7e-c8de-4c3e-8d5a-e795347af7da"
      },
      "execution_count": 81,
      "outputs": [
        {
          "output_type": "stream",
          "name": "stdout",
          "text": [
            "[[0.29752066 0.41333333 0.         ... 0.19101124 0.20289855 0.33333333]\n",
            " [0.33057851 0.53333333 0.         ... 0.25842697 0.26086957 0.33333333]\n",
            " [0.33057851 0.45333333 0.02409639 ... 0.24157303 0.26086957 0.33333333]\n",
            " ...\n",
            " [0.2231405  0.10666667 0.11445783 ... 0.13483146 0.20289855 0.5       ]\n",
            " [0.14049587 0.14       0.18072289 ... 0.08988764 0.69565217 0.66666667]\n",
            " [0.18181818 0.08666667 0.22891566 ... 0.05617978 0.55072464 0.5       ]]\n"
          ]
        },
        {
          "output_type": "stream",
          "name": "stderr",
          "text": [
            "  0%|          | 1/5000 [00:02<3:38:59,  2.63s/it]"
          ]
        },
        {
          "output_type": "stream",
          "name": "stdout",
          "text": [
            "epoch : 1 ==> loss : 2.0720, accuracy : 0.2367\n"
          ]
        },
        {
          "output_type": "stream",
          "name": "stderr",
          "text": [
            "  4%|▍         | 211/5000 [00:05<00:51, 93.78it/s]"
          ]
        },
        {
          "output_type": "stream",
          "name": "stdout",
          "text": [
            "epoch : 201 ==> loss : 0.4845, accuracy : 0.7933\n"
          ]
        },
        {
          "output_type": "stream",
          "name": "stderr",
          "text": [
            "  9%|▉         | 474/5000 [00:06<00:13, 337.40it/s]"
          ]
        },
        {
          "output_type": "stream",
          "name": "stdout",
          "text": [
            "epoch : 401 ==> loss : 0.3189, accuracy : 0.8800\n"
          ]
        },
        {
          "output_type": "stream",
          "name": "stderr",
          "text": [
            " 14%|█▎        | 685/5000 [00:06<00:10, 406.15it/s]"
          ]
        },
        {
          "output_type": "stream",
          "name": "stdout",
          "text": [
            "epoch : 601 ==> loss : 0.1922, accuracy : 0.9367\n"
          ]
        },
        {
          "output_type": "stream",
          "name": "stderr",
          "text": [
            " 17%|█▋        | 846/5000 [00:07<00:10, 380.60it/s]"
          ]
        },
        {
          "output_type": "stream",
          "name": "stdout",
          "text": [
            "epoch : 801 ==> loss : 0.1829, accuracy : 0.9367\n"
          ]
        },
        {
          "output_type": "stream",
          "name": "stderr",
          "text": [
            " 21%|██▏       | 1072/5000 [00:07<00:09, 434.21it/s]"
          ]
        },
        {
          "output_type": "stream",
          "name": "stdout",
          "text": [
            "epoch : 1001 ==> loss : 0.0953, accuracy : 0.9800\n"
          ]
        },
        {
          "output_type": "stream",
          "name": "stderr",
          "text": [
            " 25%|██▍       | 1246/5000 [00:08<00:09, 392.56it/s]"
          ]
        },
        {
          "output_type": "stream",
          "name": "stdout",
          "text": [
            "epoch : 1201 ==> loss : 0.1064, accuracy : 0.9733\n"
          ]
        },
        {
          "output_type": "stream",
          "name": "stderr",
          "text": [
            " 29%|██▉       | 1470/5000 [00:08<00:08, 423.44it/s]"
          ]
        },
        {
          "output_type": "stream",
          "name": "stdout",
          "text": [
            "epoch : 1401 ==> loss : 0.0702, accuracy : 0.9867\n"
          ]
        },
        {
          "output_type": "stream",
          "name": "stderr",
          "text": [
            " 33%|███▎      | 1649/5000 [00:09<00:08, 403.19it/s]"
          ]
        },
        {
          "output_type": "stream",
          "name": "stdout",
          "text": [
            "epoch : 1601 ==> loss : 0.0746, accuracy : 0.9733\n"
          ]
        },
        {
          "output_type": "stream",
          "name": "stderr",
          "text": [
            " 37%|███▋      | 1861/5000 [00:09<00:07, 417.50it/s]"
          ]
        },
        {
          "output_type": "stream",
          "name": "stdout",
          "text": [
            "epoch : 1801 ==> loss : 0.0729, accuracy : 0.9767\n"
          ]
        },
        {
          "output_type": "stream",
          "name": "stderr",
          "text": [
            " 41%|████      | 2041/5000 [00:10<00:07, 416.15it/s]"
          ]
        },
        {
          "output_type": "stream",
          "name": "stdout",
          "text": [
            "epoch : 2001 ==> loss : 0.0512, accuracy : 0.9867\n"
          ]
        },
        {
          "output_type": "stream",
          "name": "stderr",
          "text": [
            " 45%|████▌     | 2258/5000 [00:10<00:06, 417.01it/s]"
          ]
        },
        {
          "output_type": "stream",
          "name": "stdout",
          "text": [
            "epoch : 2201 ==> loss : 0.0830, accuracy : 0.9800\n"
          ]
        },
        {
          "output_type": "stream",
          "name": "stderr",
          "text": [
            " 49%|████▊     | 2433/5000 [00:11<00:06, 419.58it/s]"
          ]
        },
        {
          "output_type": "stream",
          "name": "stdout",
          "text": [
            "epoch : 2401 ==> loss : 0.0609, accuracy : 0.9800\n"
          ]
        },
        {
          "output_type": "stream",
          "name": "stderr",
          "text": [
            " 53%|█████▎    | 2651/5000 [00:11<00:05, 419.28it/s]"
          ]
        },
        {
          "output_type": "stream",
          "name": "stdout",
          "text": [
            "epoch : 2601 ==> loss : 0.0427, accuracy : 0.9900\n"
          ]
        },
        {
          "output_type": "stream",
          "name": "stderr",
          "text": [
            " 58%|█████▊    | 2877/5000 [00:12<00:05, 404.53it/s]"
          ]
        },
        {
          "output_type": "stream",
          "name": "stdout",
          "text": [
            "epoch : 2801 ==> loss : 0.0356, accuracy : 0.9900\n"
          ]
        },
        {
          "output_type": "stream",
          "name": "stderr",
          "text": [
            " 61%|██████    | 3043/5000 [00:12<00:05, 333.21it/s]"
          ]
        },
        {
          "output_type": "stream",
          "name": "stdout",
          "text": [
            "epoch : 3001 ==> loss : 0.0296, accuracy : 0.9900\n"
          ]
        },
        {
          "output_type": "stream",
          "name": "stderr",
          "text": [
            " 65%|██████▍   | 3233/5000 [00:13<00:07, 243.61it/s]"
          ]
        },
        {
          "output_type": "stream",
          "name": "stdout",
          "text": [
            "epoch : 3201 ==> loss : 0.0345, accuracy : 0.9800\n"
          ]
        },
        {
          "output_type": "stream",
          "name": "stderr",
          "text": [
            " 69%|██████▊   | 3431/5000 [00:14<00:07, 218.19it/s]"
          ]
        },
        {
          "output_type": "stream",
          "name": "stdout",
          "text": [
            "epoch : 3401 ==> loss : 0.0254, accuracy : 0.9933\n"
          ]
        },
        {
          "output_type": "stream",
          "name": "stderr",
          "text": [
            " 73%|███████▎  | 3634/5000 [00:15<00:06, 205.33it/s]"
          ]
        },
        {
          "output_type": "stream",
          "name": "stdout",
          "text": [
            "epoch : 3601 ==> loss : 0.0213, accuracy : 0.9900\n"
          ]
        },
        {
          "output_type": "stream",
          "name": "stderr",
          "text": [
            " 76%|███████▋  | 3824/5000 [00:16<00:05, 212.60it/s]"
          ]
        },
        {
          "output_type": "stream",
          "name": "stdout",
          "text": [
            "epoch : 3801 ==> loss : 0.0222, accuracy : 0.9900\n"
          ]
        },
        {
          "output_type": "stream",
          "name": "stderr",
          "text": [
            " 81%|████████  | 4026/5000 [00:17<00:05, 185.00it/s]"
          ]
        },
        {
          "output_type": "stream",
          "name": "stdout",
          "text": [
            "epoch : 4001 ==> loss : 0.0360, accuracy : 0.9867\n"
          ]
        },
        {
          "output_type": "stream",
          "name": "stderr",
          "text": [
            " 86%|████████▌ | 4278/5000 [00:18<00:01, 367.34it/s]"
          ]
        },
        {
          "output_type": "stream",
          "name": "stdout",
          "text": [
            "epoch : 4201 ==> loss : 0.0181, accuracy : 0.9933\n"
          ]
        },
        {
          "output_type": "stream",
          "name": "stderr",
          "text": [
            " 90%|████████▉ | 4478/5000 [00:18<00:01, 362.81it/s]"
          ]
        },
        {
          "output_type": "stream",
          "name": "stdout",
          "text": [
            "epoch : 4401 ==> loss : 0.0153, accuracy : 0.9967\n"
          ]
        },
        {
          "output_type": "stream",
          "name": "stderr",
          "text": [
            " 93%|█████████▎| 4651/5000 [00:19<00:00, 410.97it/s]"
          ]
        },
        {
          "output_type": "stream",
          "name": "stdout",
          "text": [
            "epoch : 4601 ==> loss : 0.0363, accuracy : 0.9933\n"
          ]
        },
        {
          "output_type": "stream",
          "name": "stderr",
          "text": [
            " 98%|█████████▊| 4880/5000 [00:19<00:00, 439.17it/s]"
          ]
        },
        {
          "output_type": "stream",
          "name": "stdout",
          "text": [
            "epoch : 4801 ==> loss : 0.0260, accuracy : 0.9900\n"
          ]
        },
        {
          "output_type": "stream",
          "name": "stderr",
          "text": [
            "100%|██████████| 5000/5000 [00:19<00:00, 252.01it/s]\n"
          ]
        },
        {
          "output_type": "stream",
          "name": "stdout",
          "text": [
            "test accuracy : 0.9867\n"
          ]
        }
      ]
    }
  ]
}